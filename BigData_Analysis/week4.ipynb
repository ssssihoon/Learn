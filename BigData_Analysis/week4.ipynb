{
  "nbformat": 4,
  "nbformat_minor": 0,
  "metadata": {
    "colab": {
      "provenance": [],
      "authorship_tag": "ABX9TyOiDiUtOhfDF9KG5dw8mB5r",
      "include_colab_link": true
    },
    "kernelspec": {
      "name": "python3",
      "display_name": "Python 3"
    },
    "language_info": {
      "name": "python"
    }
  },
  "cells": [
    {
      "cell_type": "markdown",
      "metadata": {
        "id": "view-in-github",
        "colab_type": "text"
      },
      "source": [
        "<a href=\"https://colab.research.google.com/github/ssssihoon/Learn/blob/main/BigData_Analysis/week4.ipynb\" target=\"_parent\"><img src=\"https://colab.research.google.com/assets/colab-badge.svg\" alt=\"Open In Colab\"/></a>"
      ]
    },
    {
      "cell_type": "code",
      "execution_count": null,
      "metadata": {
        "colab": {
          "base_uri": "https://localhost:8080/"
        },
        "id": "Cvzc_PhFuAc_",
        "outputId": "f181a2a7-98b8-4fb6-94dd-3a0866960a69"
      },
      "outputs": [
        {
          "output_type": "stream",
          "name": "stdout",
          "text": [
            "[120, 220, 330]\n"
          ]
        }
      ],
      "source": [
        "a = [120, 220, 330]\n",
        "print(a)"
      ]
    },
    {
      "cell_type": "code",
      "source": [
        "a = [\"sonny\", 29, True]\n",
        "print(a)"
      ],
      "metadata": {
        "colab": {
          "base_uri": "https://localhost:8080/"
        },
        "id": "sMX8TbbFv3co",
        "outputId": "96b6fba8-fb44-417f-e95a-67f4b02180d9"
      },
      "execution_count": null,
      "outputs": [
        {
          "output_type": "stream",
          "name": "stdout",
          "text": [
            "['sonny', 29, True]\n"
          ]
        }
      ]
    },
    {
      "cell_type": "code",
      "source": [
        "a = [\"sonny\", \"channy\", \"minjae\"]\n",
        "print(a[-2])\n",
        "print(a[-1])"
      ],
      "metadata": {
        "colab": {
          "base_uri": "https://localhost:8080/"
        },
        "id": "WdHNFrsWwUM9",
        "outputId": "cb646f9e-2582-4e09-da21-62a7f4d0c166"
      },
      "execution_count": null,
      "outputs": [
        {
          "output_type": "stream",
          "name": "stdout",
          "text": [
            "channy\n",
            "minjae\n"
          ]
        }
      ]
    },
    {
      "cell_type": "code",
      "source": [
        "# 슬라이싱 (from ~ to)\n",
        "a = [\"sonny\", \"kangin\", \"channy\", \"minjae\", \"djpark\"]\n",
        "print(a[:4])\n",
        "print(a[:])\n",
        "print(a[1:-1:2])"
      ],
      "metadata": {
        "colab": {
          "base_uri": "https://localhost:8080/"
        },
        "id": "k3JRudvswiNL",
        "outputId": "834d7887-1e78-4320-f145-166d08474e28"
      },
      "execution_count": null,
      "outputs": [
        {
          "output_type": "stream",
          "name": "stdout",
          "text": [
            "['sonny', 'kangin', 'channy', 'minjae']\n",
            "['sonny', 'kangin', 'channy', 'minjae', 'djpark']\n"
          ]
        },
        {
          "output_type": "execute_result",
          "data": {
            "text/plain": [
              "['kangin', 'minjae']"
            ]
          },
          "metadata": {},
          "execution_count": 13
        }
      ]
    },
    {
      "cell_type": "code",
      "source": [
        "# 변경\n",
        "a = [\"sonny\", \"kangin\", \"channy\", \"minjae\", \"djpark\"]\n",
        "# djpark -> jpark\n",
        "a[4] = \"jpark\"\n",
        "print(a)"
      ],
      "metadata": {
        "colab": {
          "base_uri": "https://localhost:8080/"
        },
        "id": "wlV8y70Bxpsm",
        "outputId": "56d8ed7e-f531-498b-8a9b-fb59a4a337b2"
      },
      "execution_count": null,
      "outputs": [
        {
          "output_type": "stream",
          "name": "stdout",
          "text": [
            "['sonny', 'kangin', 'channy', 'minjae', 'jpark']\n"
          ]
        }
      ]
    },
    {
      "cell_type": "code",
      "source": [
        "# 리스트타입 데이터 추가 append\n",
        "a = [\"sonny\", \"kangin\", \"channy\"]\n",
        "# minjae 추가\n",
        "a.append(\"minjae\")\n",
        "a"
      ],
      "metadata": {
        "colab": {
          "base_uri": "https://localhost:8080/"
        },
        "id": "OUJlgotEzHWp",
        "outputId": "9df78f35-6821-46fc-8dba-47168941aba0"
      },
      "execution_count": null,
      "outputs": [
        {
          "output_type": "execute_result",
          "data": {
            "text/plain": [
              "['sonny', 'kangin', 'channy', 'minjae']"
            ]
          },
          "metadata": {},
          "execution_count": 16
        }
      ]
    },
    {
      "cell_type": "code",
      "source": [
        "# 데이터 개수 구하기\n",
        "a = [\"sonny\", \"kangin\", \"channy\", \"minjae\", \"djpark\"]\n",
        "len(a)"
      ],
      "metadata": {
        "colab": {
          "base_uri": "https://localhost:8080/"
        },
        "id": "OQbS3OAszcdu",
        "outputId": "3612e8f4-f67a-40e0-ac07-430ae8be7ea1"
      },
      "execution_count": null,
      "outputs": [
        {
          "output_type": "execute_result",
          "data": {
            "text/plain": [
              "5"
            ]
          },
          "metadata": {},
          "execution_count": 17
        }
      ]
    },
    {
      "cell_type": "code",
      "source": [
        "# 딕셔너리 타입 (\"키\" : \"값\")\n",
        "dicts = {\"name\" : \"sonny\", \"age\" : 32, \"sex\" : \"M\"}\n",
        "dicts"
      ],
      "metadata": {
        "colab": {
          "base_uri": "https://localhost:8080/"
        },
        "id": "Ph1PdmczzuSn",
        "outputId": "df8c6406-b4da-4929-b8c5-25b4bd750011"
      },
      "execution_count": null,
      "outputs": [
        {
          "output_type": "execute_result",
          "data": {
            "text/plain": [
              "{'name': 'sonny', 'age': 32, 'sex': 'M'}"
            ]
          },
          "metadata": {},
          "execution_count": 18
        }
      ]
    },
    {
      "cell_type": "code",
      "source": [
        "dicts.keys()"
      ],
      "metadata": {
        "colab": {
          "base_uri": "https://localhost:8080/"
        },
        "id": "PPxvIR3i1qIX",
        "outputId": "c84a37b3-45a4-443e-f63a-91cc08721155"
      },
      "execution_count": null,
      "outputs": [
        {
          "output_type": "execute_result",
          "data": {
            "text/plain": [
              "dict_keys(['name', 'age', 'sex'])"
            ]
          },
          "metadata": {},
          "execution_count": 19
        }
      ]
    },
    {
      "cell_type": "code",
      "source": [
        "dicts.values()"
      ],
      "metadata": {
        "colab": {
          "base_uri": "https://localhost:8080/"
        },
        "id": "JijYPxkx18_x",
        "outputId": "51d1d99c-97b7-476a-c555-6720b739e232"
      },
      "execution_count": null,
      "outputs": [
        {
          "output_type": "execute_result",
          "data": {
            "text/plain": [
              "dict_values(['sonny', 32, 'M'])"
            ]
          },
          "metadata": {},
          "execution_count": 20
        }
      ]
    },
    {
      "cell_type": "code",
      "source": [
        "# 딕셔너리 데이터 생성\n",
        "bag = dict()\n",
        "# 과일이름 -> 키 , 과일갯수 -> 값 \" apple\", \"banana\", \"melon\"\n",
        "bag[\"apple\"] = 12\n",
        "bag[\"banana\"] = 20\n",
        "bag[\"melon\"] = 2\n",
        "bag"
      ],
      "metadata": {
        "colab": {
          "base_uri": "https://localhost:8080/"
        },
        "id": "DVDTR9hb1-SD",
        "outputId": "730bed4a-88f0-41eb-b961-d6fdb9b10239"
      },
      "execution_count": null,
      "outputs": [
        {
          "output_type": "execute_result",
          "data": {
            "text/plain": [
              "{'apple': 12, 'banana': 20, 'melon': 2}"
            ]
          },
          "metadata": {},
          "execution_count": 21
        }
      ]
    },
    {
      "cell_type": "code",
      "source": [
        "# bag -> \"berry\" : 15\n",
        "bag[\"berry\"] = 15\n",
        "bag"
      ],
      "metadata": {
        "colab": {
          "base_uri": "https://localhost:8080/"
        },
        "id": "Pixo_n5n225s",
        "outputId": "c03a2165-5229-46c5-94fb-fec21d9e6826"
      },
      "execution_count": null,
      "outputs": [
        {
          "output_type": "execute_result",
          "data": {
            "text/plain": [
              "{'apple': 12, 'banana': 20, 'melon': 2, 'berry': 15}"
            ]
          },
          "metadata": {},
          "execution_count": 22
        }
      ]
    },
    {
      "cell_type": "code",
      "source": [
        "for i in a:\n",
        "  print(i)"
      ],
      "metadata": {
        "id": "Vd67Uy-w3eZG",
        "colab": {
          "base_uri": "https://localhost:8080/"
        },
        "outputId": "b6572fa0-d636-471b-aeb3-43d981a527d8"
      },
      "execution_count": 23,
      "outputs": [
        {
          "output_type": "stream",
          "name": "stdout",
          "text": [
            "sonny\n",
            "kangin\n",
            "channy\n",
            "minjae\n",
            "djpark\n"
          ]
        }
      ]
    },
    {
      "cell_type": "code",
      "source": [
        "fruit = [\"apple\", \"melon\", \"banana\"]\n",
        "\n",
        "# for 하나씩 출력\n",
        "\n",
        "for i in fruit:\n",
        "  print(i)"
      ],
      "metadata": {
        "colab": {
          "base_uri": "https://localhost:8080/"
        },
        "id": "f0jHw09OAuDY",
        "outputId": "a148048f-5bfc-4a28-e148-0461ca92b8bd"
      },
      "execution_count": 24,
      "outputs": [
        {
          "output_type": "stream",
          "name": "stdout",
          "text": [
            "apple\n",
            "melon\n",
            "banana\n"
          ]
        }
      ]
    },
    {
      "cell_type": "code",
      "source": [
        "str = \"nice one sonny\"\n",
        "\n",
        "for i in fruit:\n",
        "  print(str)"
      ],
      "metadata": {
        "colab": {
          "base_uri": "https://localhost:8080/"
        },
        "id": "dKXFMl0YBiuS",
        "outputId": "4633d4f6-d465-446d-85c4-2bd51caa9895"
      },
      "execution_count": 25,
      "outputs": [
        {
          "output_type": "stream",
          "name": "stdout",
          "text": [
            "nice one sonny\n",
            "nice one sonny\n",
            "nice one sonny\n"
          ]
        }
      ]
    },
    {
      "cell_type": "code",
      "source": [
        "# range, len 이용해서 fruit의 방번호 출력\n",
        "\n",
        "for i in range(len(fruit)):\n",
        "  print(i)"
      ],
      "metadata": {
        "colab": {
          "base_uri": "https://localhost:8080/"
        },
        "id": "nsPKIy8KCcy2",
        "outputId": "d08ef84d-3412-48e1-b78a-72302ce73a72"
      },
      "execution_count": 26,
      "outputs": [
        {
          "output_type": "stream",
          "name": "stdout",
          "text": [
            "0\n",
            "1\n",
            "2\n"
          ]
        }
      ]
    },
    {
      "cell_type": "code",
      "source": [
        "for i in range(len(fruit)):\n",
        "  print(fruit[i])"
      ],
      "metadata": {
        "colab": {
          "base_uri": "https://localhost:8080/"
        },
        "id": "DRrTB4r-C_BY",
        "outputId": "b8fc0aee-978d-456d-eccd-cf4708d6e6f8"
      },
      "execution_count": 27,
      "outputs": [
        {
          "output_type": "stream",
          "name": "stdout",
          "text": [
            "apple\n",
            "melon\n",
            "banana\n"
          ]
        }
      ]
    },
    {
      "cell_type": "code",
      "source": [
        "for i in range(len(fruit)):\n",
        "  print(len(fruit[i]))"
      ],
      "metadata": {
        "colab": {
          "base_uri": "https://localhost:8080/"
        },
        "id": "mzyG_iLbD0ye",
        "outputId": "18b645a1-b7f7-4df9-e90b-e3e19c095a00"
      },
      "execution_count": 28,
      "outputs": [
        {
          "output_type": "stream",
          "name": "stdout",
          "text": [
            "5\n",
            "5\n",
            "6\n"
          ]
        }
      ]
    },
    {
      "cell_type": "code",
      "source": [
        "# a = ['라면', '비빔밥', '김밥']\n",
        "\n",
        "# 오늘의 메뉴 : 라면\n",
        "# 오늘의 메뉴 : 비빔밥\n",
        "# 오늘의 메뉴 : 김밥\n",
        "\n",
        "a = ['라면', '비빔밥', '김밥']\n",
        "\n",
        "for i in a:\n",
        "  print(\"오늘의 메뉴 :\", i)"
      ],
      "metadata": {
        "colab": {
          "base_uri": "https://localhost:8080/"
        },
        "id": "H4tnkNnDEwiE",
        "outputId": "ee550ed7-89b1-4a08-db84-a00ed0a3df41"
      },
      "execution_count": 30,
      "outputs": [
        {
          "output_type": "stream",
          "name": "stdout",
          "text": [
            "오늘의 메뉴 : 라면\n",
            "오늘의 메뉴 : 비빔밥\n",
            "오늘의 메뉴 : 김밥\n"
          ]
        }
      ]
    },
    {
      "cell_type": "code",
      "source": [
        "for i in range(1, 10):\n",
        "  # print(\"2 x\", i, \"=\", 2*i)\n",
        "  print(\"2 x {} = {}\".format(i, 2*i))"
      ],
      "metadata": {
        "colab": {
          "base_uri": "https://localhost:8080/"
        },
        "id": "1JbXGAOGImfv",
        "outputId": "1f66d673-daf0-4e33-815f-b71ff18b8c95"
      },
      "execution_count": 41,
      "outputs": [
        {
          "output_type": "stream",
          "name": "stdout",
          "text": [
            "2 x 1 = 2\n",
            "2 x 2 = 4\n",
            "2 x 3 = 6\n",
            "2 x 4 = 8\n",
            "2 x 5 = 10\n",
            "2 x 6 = 12\n",
            "2 x 7 = 14\n",
            "2 x 8 = 16\n",
            "2 x 9 = 18\n"
          ]
        }
      ]
    },
    {
      "cell_type": "code",
      "source": [
        "# 구구단 2단부터\n",
        "\n",
        "for i in range(2, 10):\n",
        "  print(\"{}단 시작\".format(i))\n",
        "  for j in range(1, 10):\n",
        "    print(\"{} x {} = {}\".format(i, j, j*i) )\n",
        "  print(\"\")"
      ],
      "metadata": {
        "colab": {
          "base_uri": "https://localhost:8080/"
        },
        "id": "h5EYKho8JKwX",
        "outputId": "b8ebc39f-9c0f-4312-fb8d-126cb8d19175"
      },
      "execution_count": 46,
      "outputs": [
        {
          "output_type": "stream",
          "name": "stdout",
          "text": [
            "2단 시작\n",
            "2 x 1 = 2\n",
            "2 x 2 = 4\n",
            "2 x 3 = 6\n",
            "2 x 4 = 8\n",
            "2 x 5 = 10\n",
            "2 x 6 = 12\n",
            "2 x 7 = 14\n",
            "2 x 8 = 16\n",
            "2 x 9 = 18\n",
            "\n",
            "3단 시작\n",
            "3 x 1 = 3\n",
            "3 x 2 = 6\n",
            "3 x 3 = 9\n",
            "3 x 4 = 12\n",
            "3 x 5 = 15\n",
            "3 x 6 = 18\n",
            "3 x 7 = 21\n",
            "3 x 8 = 24\n",
            "3 x 9 = 27\n",
            "\n",
            "4단 시작\n",
            "4 x 1 = 4\n",
            "4 x 2 = 8\n",
            "4 x 3 = 12\n",
            "4 x 4 = 16\n",
            "4 x 5 = 20\n",
            "4 x 6 = 24\n",
            "4 x 7 = 28\n",
            "4 x 8 = 32\n",
            "4 x 9 = 36\n",
            "\n",
            "5단 시작\n",
            "5 x 1 = 5\n",
            "5 x 2 = 10\n",
            "5 x 3 = 15\n",
            "5 x 4 = 20\n",
            "5 x 5 = 25\n",
            "5 x 6 = 30\n",
            "5 x 7 = 35\n",
            "5 x 8 = 40\n",
            "5 x 9 = 45\n",
            "\n",
            "6단 시작\n",
            "6 x 1 = 6\n",
            "6 x 2 = 12\n",
            "6 x 3 = 18\n",
            "6 x 4 = 24\n",
            "6 x 5 = 30\n",
            "6 x 6 = 36\n",
            "6 x 7 = 42\n",
            "6 x 8 = 48\n",
            "6 x 9 = 54\n",
            "\n",
            "7단 시작\n",
            "7 x 1 = 7\n",
            "7 x 2 = 14\n",
            "7 x 3 = 21\n",
            "7 x 4 = 28\n",
            "7 x 5 = 35\n",
            "7 x 6 = 42\n",
            "7 x 7 = 49\n",
            "7 x 8 = 56\n",
            "7 x 9 = 63\n",
            "\n",
            "8단 시작\n",
            "8 x 1 = 8\n",
            "8 x 2 = 16\n",
            "8 x 3 = 24\n",
            "8 x 4 = 32\n",
            "8 x 5 = 40\n",
            "8 x 6 = 48\n",
            "8 x 7 = 56\n",
            "8 x 8 = 64\n",
            "8 x 9 = 72\n",
            "\n",
            "9단 시작\n",
            "9 x 1 = 9\n",
            "9 x 2 = 18\n",
            "9 x 3 = 27\n",
            "9 x 4 = 36\n",
            "9 x 5 = 45\n",
            "9 x 6 = 54\n",
            "9 x 7 = 63\n",
            "9 x 8 = 72\n",
            "9 x 9 = 81\n",
            "\n"
          ]
        }
      ]
    },
    {
      "cell_type": "code",
      "source": [
        "def print_sonny():\n",
        "  print(\"nice one sonny\")\n",
        "\n",
        "print_sonny()"
      ],
      "metadata": {
        "colab": {
          "base_uri": "https://localhost:8080/"
        },
        "id": "GXfZbPzjK-CP",
        "outputId": "0ee08a6a-0f33-49a9-f2c7-86d3c576d734"
      },
      "execution_count": 47,
      "outputs": [
        {
          "output_type": "stream",
          "name": "stdout",
          "text": [
            "nice one sonny\n"
          ]
        }
      ]
    },
    {
      "cell_type": "code",
      "source": [
        "def kian84():\n",
        "  print(\"kian 84\")\n",
        "\n",
        "kian84()"
      ],
      "metadata": {
        "colab": {
          "base_uri": "https://localhost:8080/"
        },
        "id": "TlE6futmPF4v",
        "outputId": "5b06e9f2-5839-4991-ae65-a27938a1371a"
      },
      "execution_count": 48,
      "outputs": [
        {
          "output_type": "stream",
          "name": "stdout",
          "text": [
            "kian 84\n"
          ]
        }
      ]
    },
    {
      "cell_type": "code",
      "source": [
        "# 매개 변수 2개를 받아서 합계를 출력해주는 함수 생성\n",
        "# uf_sum(x1, x2)\n",
        "\n",
        "def uf_sum(x, y):\n",
        "  return print(x + y)\n",
        "\n",
        "n = int(input())\n",
        "m = int(input())\n",
        "\n",
        "uf_sum(n, m)"
      ],
      "metadata": {
        "colab": {
          "base_uri": "https://localhost:8080/"
        },
        "id": "1wCP6erQPdyR",
        "outputId": "87d55ad4-124d-4f24-ae92-4a4a58033cbc"
      },
      "execution_count": 50,
      "outputs": [
        {
          "output_type": "stream",
          "name": "stdout",
          "text": [
            "2\n",
            "3\n",
            "5\n"
          ]
        }
      ]
    },
    {
      "cell_type": "code",
      "source": [
        "a = input()\n",
        "a"
      ],
      "metadata": {
        "colab": {
          "base_uri": "https://localhost:8080/",
          "height": 53
        },
        "id": "-ozdP7M5P76o",
        "outputId": "f76e2307-ca23-49ff-a378-e83193ca75b7"
      },
      "execution_count": 51,
      "outputs": [
        {
          "name": "stdout",
          "output_type": "stream",
          "text": [
            "3\n"
          ]
        },
        {
          "output_type": "execute_result",
          "data": {
            "text/plain": [
              "'3'"
            ],
            "application/vnd.google.colaboratory.intrinsic+json": {
              "type": "string"
            }
          },
          "metadata": {},
          "execution_count": 51
        }
      ]
    },
    {
      "cell_type": "code",
      "source": [
        "# input()으로 입력받은 문자열 끝에 무조건 \"- nice one sonny\"가 이어 붙여지게\n",
        "\n",
        "def sonny_best(str):\n",
        "  print(str, \"- nice one sonny\")\n",
        "\n",
        "\n",
        "a = input()\n",
        "sonny_best(a)"
      ],
      "metadata": {
        "colab": {
          "base_uri": "https://localhost:8080/"
        },
        "id": "ioB0Me9BQpID",
        "outputId": "b04690f2-9b39-46d6-97e7-a79259751944"
      },
      "execution_count": 53,
      "outputs": [
        {
          "output_type": "stream",
          "name": "stdout",
          "text": [
            "Hello\n",
            "Hello - nice one sonny\n"
          ]
        }
      ]
    },
    {
      "cell_type": "code",
      "source": [
        "# 3개의 숫자를 매개변수로 받아 가장 큰 값을 출력\n",
        "\n",
        "def uf_max(x1, x2, x3):\n",
        "  max = 0\n",
        "  if x1 >= x2:\n",
        "    if x1 >= x3:\n",
        "      max = x1\n",
        "    else :\n",
        "      max = x3\n",
        "  elif x2 >= x1:\n",
        "    if x3 >= x2:\n",
        "      max = x3\n",
        "    else:\n",
        "      max = x2\n",
        "  return max\n",
        "\n",
        "x = int(input())\n",
        "y = int(input())\n",
        "z = int(input())\n",
        "print(\"제일 큰 수 :\" , uf_max(x, y, z))\n"
      ],
      "metadata": {
        "colab": {
          "base_uri": "https://localhost:8080/"
        },
        "id": "XzI24S5LQ7TB",
        "outputId": "1de10801-7820-4a1f-be3c-51254b5164db"
      },
      "execution_count": 62,
      "outputs": [
        {
          "output_type": "stream",
          "name": "stdout",
          "text": [
            "23\n",
            "21\n",
            "27\n",
            "제일 큰 수 : 27\n"
          ]
        }
      ]
    },
    {
      "cell_type": "code",
      "source": [],
      "metadata": {
        "id": "0_2HWth2Sz1_"
      },
      "execution_count": null,
      "outputs": []
    }
  ]
}