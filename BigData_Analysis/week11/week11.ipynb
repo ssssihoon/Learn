{
 "cells": [
  {
   "cell_type": "code",
   "execution_count": 15,
   "outputs": [],
   "source": [
    "import pandas as pd\n",
    "\n",
    "customer_df = pd.read_csv('customer.csv')\n",
    "sales_df = pd.read_csv('sales.csv')\n",
    "store_df = pd.read_csv('store.csv')"
   ],
   "metadata": {
    "collapsed": false
   }
  },
  {
   "cell_type": "code",
   "execution_count": 16,
   "outputs": [
    {
     "data": {
      "text/plain": "           고객ID 성별  연령         거주지역\n0     Q05910452  F  29  서울 서초구 서초4동\n1     Q00509389  M  20   경기 화성시 봉담읍\n2     Q59112261  M  30  서울 서초구 서초4동\n3     Q38120745  F  28   인천 중구 항동7가\n4     Q18530082  F  42    강원 인제군 북면\n...         ... ..  ..          ...\n4995  Q82564861  F  25   경북 영주시 순흥면\n4996  Q41302604  F  28   대구 달서구 파호동\n4997  Q82586906  M  54  경북 영주시 휴천2동\n4998  Q26354165  F  31   경북 안동시 대석동\n4999  Q34149506  F  51   경북 경주시 동천동\n\n[5000 rows x 4 columns]",
      "text/html": "<div>\n<style scoped>\n    .dataframe tbody tr th:only-of-type {\n        vertical-align: middle;\n    }\n\n    .dataframe tbody tr th {\n        vertical-align: top;\n    }\n\n    .dataframe thead th {\n        text-align: right;\n    }\n</style>\n<table border=\"1\" class=\"dataframe\">\n  <thead>\n    <tr style=\"text-align: right;\">\n      <th></th>\n      <th>고객ID</th>\n      <th>성별</th>\n      <th>연령</th>\n      <th>거주지역</th>\n    </tr>\n  </thead>\n  <tbody>\n    <tr>\n      <th>0</th>\n      <td>Q05910452</td>\n      <td>F</td>\n      <td>29</td>\n      <td>서울 서초구 서초4동</td>\n    </tr>\n    <tr>\n      <th>1</th>\n      <td>Q00509389</td>\n      <td>M</td>\n      <td>20</td>\n      <td>경기 화성시 봉담읍</td>\n    </tr>\n    <tr>\n      <th>2</th>\n      <td>Q59112261</td>\n      <td>M</td>\n      <td>30</td>\n      <td>서울 서초구 서초4동</td>\n    </tr>\n    <tr>\n      <th>3</th>\n      <td>Q38120745</td>\n      <td>F</td>\n      <td>28</td>\n      <td>인천 중구 항동7가</td>\n    </tr>\n    <tr>\n      <th>4</th>\n      <td>Q18530082</td>\n      <td>F</td>\n      <td>42</td>\n      <td>강원 인제군 북면</td>\n    </tr>\n    <tr>\n      <th>...</th>\n      <td>...</td>\n      <td>...</td>\n      <td>...</td>\n      <td>...</td>\n    </tr>\n    <tr>\n      <th>4995</th>\n      <td>Q82564861</td>\n      <td>F</td>\n      <td>25</td>\n      <td>경북 영주시 순흥면</td>\n    </tr>\n    <tr>\n      <th>4996</th>\n      <td>Q41302604</td>\n      <td>F</td>\n      <td>28</td>\n      <td>대구 달서구 파호동</td>\n    </tr>\n    <tr>\n      <th>4997</th>\n      <td>Q82586906</td>\n      <td>M</td>\n      <td>54</td>\n      <td>경북 영주시 휴천2동</td>\n    </tr>\n    <tr>\n      <th>4998</th>\n      <td>Q26354165</td>\n      <td>F</td>\n      <td>31</td>\n      <td>경북 안동시 대석동</td>\n    </tr>\n    <tr>\n      <th>4999</th>\n      <td>Q34149506</td>\n      <td>F</td>\n      <td>51</td>\n      <td>경북 경주시 동천동</td>\n    </tr>\n  </tbody>\n</table>\n<p>5000 rows × 4 columns</p>\n</div>"
     },
     "execution_count": 16,
     "metadata": {},
     "output_type": "execute_result"
    }
   ],
   "source": [
    "customer_df"
   ],
   "metadata": {
    "collapsed": false
   }
  },
  {
   "cell_type": "code",
   "execution_count": 17,
   "outputs": [
    {
     "data": {
      "text/plain": "            고객ID   거래식별ID 점포ID      거래일자  거래시간대 상품대분류명   상품중분류명  구매건수  구매금액\n0      Q00027726  A000361   AA  20140403     21    면과자       라면     2   780\n1      Q00027726  A000361   AA  20140403     21    면과자    쿠키케이크     1  1600\n2      Q00027726  A000363   AA  20140403     21    델리카     간편간식     1  6990\n3      Q00027726  A000363   AA  20140403     21   일반식품     즉석식품     1  2500\n4      Q00027726  A000364   AA  20140403     21    면과자        빵     1  1000\n...          ...      ...  ...       ...    ...    ...      ...   ...   ...\n57193  Q99965015  A039060   CC  20140531     20    면과자    쿠키케이크     1  2480\n57194  Q99965015  A039060   CC  20140531     20     청과  토마토자두메론     1  6990\n57195  Q99965015  A043414   CC  20140726     20     냉장     냉장수산     1  1740\n57196  Q99965015  A045718   CC  20140823     21     낙농       우유     1  3380\n57197  Q99965015  A048103   CC  20140925     17    음주류       주류     1  1040\n\n[57198 rows x 9 columns]",
      "text/html": "<div>\n<style scoped>\n    .dataframe tbody tr th:only-of-type {\n        vertical-align: middle;\n    }\n\n    .dataframe tbody tr th {\n        vertical-align: top;\n    }\n\n    .dataframe thead th {\n        text-align: right;\n    }\n</style>\n<table border=\"1\" class=\"dataframe\">\n  <thead>\n    <tr style=\"text-align: right;\">\n      <th></th>\n      <th>고객ID</th>\n      <th>거래식별ID</th>\n      <th>점포ID</th>\n      <th>거래일자</th>\n      <th>거래시간대</th>\n      <th>상품대분류명</th>\n      <th>상품중분류명</th>\n      <th>구매건수</th>\n      <th>구매금액</th>\n    </tr>\n  </thead>\n  <tbody>\n    <tr>\n      <th>0</th>\n      <td>Q00027726</td>\n      <td>A000361</td>\n      <td>AA</td>\n      <td>20140403</td>\n      <td>21</td>\n      <td>면과자</td>\n      <td>라면</td>\n      <td>2</td>\n      <td>780</td>\n    </tr>\n    <tr>\n      <th>1</th>\n      <td>Q00027726</td>\n      <td>A000361</td>\n      <td>AA</td>\n      <td>20140403</td>\n      <td>21</td>\n      <td>면과자</td>\n      <td>쿠키케이크</td>\n      <td>1</td>\n      <td>1600</td>\n    </tr>\n    <tr>\n      <th>2</th>\n      <td>Q00027726</td>\n      <td>A000363</td>\n      <td>AA</td>\n      <td>20140403</td>\n      <td>21</td>\n      <td>델리카</td>\n      <td>간편간식</td>\n      <td>1</td>\n      <td>6990</td>\n    </tr>\n    <tr>\n      <th>3</th>\n      <td>Q00027726</td>\n      <td>A000363</td>\n      <td>AA</td>\n      <td>20140403</td>\n      <td>21</td>\n      <td>일반식품</td>\n      <td>즉석식품</td>\n      <td>1</td>\n      <td>2500</td>\n    </tr>\n    <tr>\n      <th>4</th>\n      <td>Q00027726</td>\n      <td>A000364</td>\n      <td>AA</td>\n      <td>20140403</td>\n      <td>21</td>\n      <td>면과자</td>\n      <td>빵</td>\n      <td>1</td>\n      <td>1000</td>\n    </tr>\n    <tr>\n      <th>...</th>\n      <td>...</td>\n      <td>...</td>\n      <td>...</td>\n      <td>...</td>\n      <td>...</td>\n      <td>...</td>\n      <td>...</td>\n      <td>...</td>\n      <td>...</td>\n    </tr>\n    <tr>\n      <th>57193</th>\n      <td>Q99965015</td>\n      <td>A039060</td>\n      <td>CC</td>\n      <td>20140531</td>\n      <td>20</td>\n      <td>면과자</td>\n      <td>쿠키케이크</td>\n      <td>1</td>\n      <td>2480</td>\n    </tr>\n    <tr>\n      <th>57194</th>\n      <td>Q99965015</td>\n      <td>A039060</td>\n      <td>CC</td>\n      <td>20140531</td>\n      <td>20</td>\n      <td>청과</td>\n      <td>토마토자두메론</td>\n      <td>1</td>\n      <td>6990</td>\n    </tr>\n    <tr>\n      <th>57195</th>\n      <td>Q99965015</td>\n      <td>A043414</td>\n      <td>CC</td>\n      <td>20140726</td>\n      <td>20</td>\n      <td>냉장</td>\n      <td>냉장수산</td>\n      <td>1</td>\n      <td>1740</td>\n    </tr>\n    <tr>\n      <th>57196</th>\n      <td>Q99965015</td>\n      <td>A045718</td>\n      <td>CC</td>\n      <td>20140823</td>\n      <td>21</td>\n      <td>낙농</td>\n      <td>우유</td>\n      <td>1</td>\n      <td>3380</td>\n    </tr>\n    <tr>\n      <th>57197</th>\n      <td>Q99965015</td>\n      <td>A048103</td>\n      <td>CC</td>\n      <td>20140925</td>\n      <td>17</td>\n      <td>음주류</td>\n      <td>주류</td>\n      <td>1</td>\n      <td>1040</td>\n    </tr>\n  </tbody>\n</table>\n<p>57198 rows × 9 columns</p>\n</div>"
     },
     "execution_count": 17,
     "metadata": {},
     "output_type": "execute_result"
    }
   ],
   "source": [
    "sales_df"
   ],
   "metadata": {
    "collapsed": false
   }
  },
  {
   "cell_type": "code",
   "execution_count": 18,
   "outputs": [
    {
     "data": {
      "text/plain": "            고객ID 가맹점ID      거래일자    구매금액  적립포인트  사용포인트\n0      Q91325491     D  20140703    6800     68      0\n1      Q91325491     D  20140812    1000     10      0\n2      Q02441390     A  20140414  196000    312      0\n3      Q02441390     A  20140418  330250   1651      0\n4      Q02441390     A  20140522  121500    607      0\n...          ...   ...       ...     ...    ...    ...\n26039  Q42233627     E  20140805    4300     43      0\n26040  Q66790365     B  20140820    7750      7      0\n26041  Q66790365     B  20140827    8000      8      0\n26042  Q24934888     A  20140916  163000    163      0\n26043  Q28108862     A  20140922   89000    189      0\n\n[26044 rows x 6 columns]",
      "text/html": "<div>\n<style scoped>\n    .dataframe tbody tr th:only-of-type {\n        vertical-align: middle;\n    }\n\n    .dataframe tbody tr th {\n        vertical-align: top;\n    }\n\n    .dataframe thead th {\n        text-align: right;\n    }\n</style>\n<table border=\"1\" class=\"dataframe\">\n  <thead>\n    <tr style=\"text-align: right;\">\n      <th></th>\n      <th>고객ID</th>\n      <th>가맹점ID</th>\n      <th>거래일자</th>\n      <th>구매금액</th>\n      <th>적립포인트</th>\n      <th>사용포인트</th>\n    </tr>\n  </thead>\n  <tbody>\n    <tr>\n      <th>0</th>\n      <td>Q91325491</td>\n      <td>D</td>\n      <td>20140703</td>\n      <td>6800</td>\n      <td>68</td>\n      <td>0</td>\n    </tr>\n    <tr>\n      <th>1</th>\n      <td>Q91325491</td>\n      <td>D</td>\n      <td>20140812</td>\n      <td>1000</td>\n      <td>10</td>\n      <td>0</td>\n    </tr>\n    <tr>\n      <th>2</th>\n      <td>Q02441390</td>\n      <td>A</td>\n      <td>20140414</td>\n      <td>196000</td>\n      <td>312</td>\n      <td>0</td>\n    </tr>\n    <tr>\n      <th>3</th>\n      <td>Q02441390</td>\n      <td>A</td>\n      <td>20140418</td>\n      <td>330250</td>\n      <td>1651</td>\n      <td>0</td>\n    </tr>\n    <tr>\n      <th>4</th>\n      <td>Q02441390</td>\n      <td>A</td>\n      <td>20140522</td>\n      <td>121500</td>\n      <td>607</td>\n      <td>0</td>\n    </tr>\n    <tr>\n      <th>...</th>\n      <td>...</td>\n      <td>...</td>\n      <td>...</td>\n      <td>...</td>\n      <td>...</td>\n      <td>...</td>\n    </tr>\n    <tr>\n      <th>26039</th>\n      <td>Q42233627</td>\n      <td>E</td>\n      <td>20140805</td>\n      <td>4300</td>\n      <td>43</td>\n      <td>0</td>\n    </tr>\n    <tr>\n      <th>26040</th>\n      <td>Q66790365</td>\n      <td>B</td>\n      <td>20140820</td>\n      <td>7750</td>\n      <td>7</td>\n      <td>0</td>\n    </tr>\n    <tr>\n      <th>26041</th>\n      <td>Q66790365</td>\n      <td>B</td>\n      <td>20140827</td>\n      <td>8000</td>\n      <td>8</td>\n      <td>0</td>\n    </tr>\n    <tr>\n      <th>26042</th>\n      <td>Q24934888</td>\n      <td>A</td>\n      <td>20140916</td>\n      <td>163000</td>\n      <td>163</td>\n      <td>0</td>\n    </tr>\n    <tr>\n      <th>26043</th>\n      <td>Q28108862</td>\n      <td>A</td>\n      <td>20140922</td>\n      <td>89000</td>\n      <td>189</td>\n      <td>0</td>\n    </tr>\n  </tbody>\n</table>\n<p>26044 rows × 6 columns</p>\n</div>"
     },
     "execution_count": 18,
     "metadata": {},
     "output_type": "execute_result"
    }
   ],
   "source": [
    "store_df"
   ],
   "metadata": {
    "collapsed": false
   }
  },
  {
   "cell_type": "code",
   "execution_count": 19,
   "outputs": [
    {
     "name": "stdout",
     "output_type": "stream",
     "text": [
      "<class 'pandas.core.frame.DataFrame'>\n",
      "RangeIndex: 5000 entries, 0 to 4999\n",
      "Data columns (total 4 columns):\n",
      " #   Column  Non-Null Count  Dtype \n",
      "---  ------  --------------  ----- \n",
      " 0   고객ID    5000 non-null   object\n",
      " 1   성별      5000 non-null   object\n",
      " 2   연령      5000 non-null   int64 \n",
      " 3   거주지역    4985 non-null   object\n",
      "dtypes: int64(1), object(3)\n",
      "memory usage: 156.4+ KB\n",
      "None\n",
      "<<<<<<<<<<<<<<<<<<<<<\n",
      "<class 'pandas.core.frame.DataFrame'>\n",
      "RangeIndex: 57198 entries, 0 to 57197\n",
      "Data columns (total 9 columns):\n",
      " #   Column  Non-Null Count  Dtype \n",
      "---  ------  --------------  ----- \n",
      " 0   고객ID    57198 non-null  object\n",
      " 1   거래식별ID  57198 non-null  object\n",
      " 2   점포ID    57198 non-null  object\n",
      " 3   거래일자    57198 non-null  int64 \n",
      " 4   거래시간대   57198 non-null  int64 \n",
      " 5   상품대분류명  57198 non-null  object\n",
      " 6   상품중분류명  57198 non-null  object\n",
      " 7   구매건수    57198 non-null  int64 \n",
      " 8   구매금액    57198 non-null  int64 \n",
      "dtypes: int64(4), object(5)\n",
      "memory usage: 3.9+ MB\n",
      "None\n",
      "<<<<<<<<<<<<<<<<<<<<<\n",
      "<class 'pandas.core.frame.DataFrame'>\n",
      "RangeIndex: 26044 entries, 0 to 26043\n",
      "Data columns (total 6 columns):\n",
      " #   Column  Non-Null Count  Dtype \n",
      "---  ------  --------------  ----- \n",
      " 0   고객ID    26044 non-null  object\n",
      " 1   가맹점ID   26044 non-null  object\n",
      " 2   거래일자    26044 non-null  int64 \n",
      " 3   구매금액    26044 non-null  int64 \n",
      " 4   적립포인트   26044 non-null  int64 \n",
      " 5   사용포인트   26044 non-null  int64 \n",
      "dtypes: int64(4), object(2)\n",
      "memory usage: 1.2+ MB\n",
      "None\n"
     ]
    }
   ],
   "source": [
    "print(customer_df.info())\n",
    "print('<<<<<<<<<<<<<<<<<<<<<')\n",
    "print(sales_df.info())\n",
    "print('<<<<<<<<<<<<<<<<<<<<<')\n",
    "print(store_df.info())"
   ],
   "metadata": {
    "collapsed": false
   }
  },
  {
   "cell_type": "markdown",
   "source": [
    "-> 결측치는 없다."
   ],
   "metadata": {
    "collapsed": false
   }
  },
  {
   "cell_type": "code",
   "execution_count": null,
   "outputs": [],
   "source": [],
   "metadata": {
    "collapsed": false
   }
  }
 ],
 "metadata": {
  "kernelspec": {
   "display_name": "Python 3",
   "language": "python",
   "name": "python3"
  },
  "language_info": {
   "codemirror_mode": {
    "name": "ipython",
    "version": 2
   },
   "file_extension": ".py",
   "mimetype": "text/x-python",
   "name": "python",
   "nbconvert_exporter": "python",
   "pygments_lexer": "ipython2",
   "version": "2.7.6"
  }
 },
 "nbformat": 4,
 "nbformat_minor": 0
}
