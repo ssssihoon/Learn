{
  "nbformat": 4,
  "nbformat_minor": 0,
  "metadata": {
    "colab": {
      "provenance": [],
      "collapsed_sections": [
        "FithmrK5xSxa",
        "zSzFPicVvHA3"
      ],
      "authorship_tag": "ABX9TyPZMvFifjqDWwM9McPLbSeC",
      "include_colab_link": true
    },
    "kernelspec": {
      "name": "python3",
      "display_name": "Python 3"
    },
    "language_info": {
      "name": "python"
    }
  },
  "cells": [
    {
      "cell_type": "markdown",
      "metadata": {
        "id": "view-in-github",
        "colab_type": "text"
      },
      "source": [
        "<a href=\"https://colab.research.google.com/github/ssssihoon/Learn/blob/main/DL/CNN/CNN_Cifar10.ipynb\" target=\"_parent\"><img src=\"https://colab.research.google.com/assets/colab-badge.svg\" alt=\"Open In Colab\"/></a>"
      ]
    },
    {
      "cell_type": "markdown",
      "source": [
        "# 데이터 전처리"
      ],
      "metadata": {
        "id": "FithmrK5xSxa"
      }
    },
    {
      "cell_type": "markdown",
      "source": [
        "## notebook 셋업"
      ],
      "metadata": {
        "id": "57PTvcazp_Y5"
      }
    },
    {
      "cell_type": "code",
      "source": [
        "#!pip install tensorflow"
      ],
      "metadata": {
        "id": "NXoo9KY_p8jJ"
      },
      "execution_count": null,
      "outputs": []
    },
    {
      "cell_type": "markdown",
      "source": [
        "## import 라이브러리"
      ],
      "metadata": {
        "id": "vKGXt2Xgrihi"
      }
    },
    {
      "cell_type": "code",
      "source": [
        "import tensorflow as tf\n",
        "import matplotlib.pyplot as plt\n",
        "\n",
        "from tensorflow.keras.datasets import cifar10 # cifar10 데이터셋 참조. 이 데이터를 활용해 cnn 측정예정\n",
        "%matplotlib inline\n",
        "tf.__version__"
      ],
      "metadata": {
        "colab": {
          "base_uri": "https://localhost:8080/",
          "height": 36
        },
        "id": "KnDx9kLxp8Ks",
        "outputId": "a92aaadf-b4be-4228-d08e-e6ff779ff933"
      },
      "execution_count": null,
      "outputs": [
        {
          "output_type": "execute_result",
          "data": {
            "text/plain": [
              "'2.15.0'"
            ],
            "application/vnd.google.colaboratory.intrinsic+json": {
              "type": "string"
            }
          },
          "metadata": {},
          "execution_count": 2
        }
      ]
    },
    {
      "cell_type": "markdown",
      "source": [
        "## 데이터 준비"
      ],
      "metadata": {
        "id": "UwqBF2gXsDo1"
      }
    },
    {
      "cell_type": "code",
      "source": [
        "# 데이터셋의 class name 셋팅\n",
        "class_names = ['airplane', 'automobile', 'bird', 'cat', 'deer', 'dog', 'frog', 'horse', 'ship', 'truck']"
      ],
      "metadata": {
        "id": "urkZJRNBrguK"
      },
      "execution_count": null,
      "outputs": []
    },
    {
      "cell_type": "code",
      "source": [
        "# Cifar10 데이터셋 불러오기 -> 훈련, 테스트 데이터 초기화\n",
        "(X_train, y_train), (X_test, y_test) = cifar10.load_data()"
      ],
      "metadata": {
        "id": "EiISGj_as1xs"
      },
      "execution_count": null,
      "outputs": []
    },
    {
      "cell_type": "code",
      "source": [
        "# 이미지 표준화 : 컨볼루션 신경망이 더 빨리 훈련되도록 이미지를 표준화\n",
        "\n",
        "X_train = X_train / 255.0        # RGB 최댓값인 255로 나누어서 픽셀값이 0~1의 범위로 값이 나올 수 있도록 조정"
      ],
      "metadata": {
        "id": "YVTZ9H6Qs_xc"
      },
      "execution_count": null,
      "outputs": []
    },
    {
      "cell_type": "code",
      "source": [
        "X_train.shape     # 뒤의 3은 컬러이기 때문 , 4차원 = [데이터의 개수] * [2차원의 픽셀 (32x32)] * [컬러 (RGB)]"
      ],
      "metadata": {
        "colab": {
          "base_uri": "https://localhost:8080/"
        },
        "id": "W8tEn5yhtqfV",
        "outputId": "497b0b10-6cfb-4b93-8944-7135bc77a0ad"
      },
      "execution_count": null,
      "outputs": [
        {
          "output_type": "execute_result",
          "data": {
            "text/plain": [
              "(50000, 32, 32, 3)"
            ]
          },
          "metadata": {},
          "execution_count": 6
        }
      ]
    },
    {
      "cell_type": "code",
      "source": [
        "X_test = X_test / 255.0"
      ],
      "metadata": {
        "id": "Wr2gKs-ctr7F"
      },
      "execution_count": null,
      "outputs": []
    },
    {
      "cell_type": "code",
      "source": [
        "plt.imshow(X_test[10]) # X_test의 10번째 이미지 한장을 보여줌"
      ],
      "metadata": {
        "colab": {
          "base_uri": "https://localhost:8080/",
          "height": 448
        },
        "id": "Fyjt2WeQty-w",
        "outputId": "6be3e2fe-431e-4792-8681-bbb07200166b"
      },
      "execution_count": null,
      "outputs": [
        {
          "output_type": "execute_result",
          "data": {
            "text/plain": [
              "<matplotlib.image.AxesImage at 0x7ee40cc71cf0>"
            ]
          },
          "metadata": {},
          "execution_count": 8
        },
        {
          "output_type": "display_data",
          "data": {
            "text/plain": [
              "<Figure size 640x480 with 1 Axes>"
            ],
            "image/png": "[encoded data removed]"
          },
          "metadata": {}
        }
      ]
    },
    {
      "cell_type": "markdown",
      "source": [
        "# CNN 구축"
      ],
      "metadata": {
        "id": "zSzFPicVvHA3"
      }
    },
    {
      "cell_type": "markdown",
      "source": [
        "### Defining the model"
      ],
      "metadata": {
        "id": "Nsfw4ve3xZm7"
      }
    },
    {
      "cell_type": "code",
      "source": [
        "model = tf.keras.models.Sequential() # 모델 변수를 순차 클래스의 인스턴스로 구축"
      ],
      "metadata": {
        "id": "LISPU8-guWVx"
      },
      "execution_count": null,
      "outputs": []
    },
    {
      "cell_type": "markdown",
      "source": [
        "## Adding the first convolutional layer"
      ],
      "metadata": {
        "id": "GohDEPm3xpv9"
      }
    },
    {
      "cell_type": "markdown",
      "source": [
        "CNN Layer HyperParameter\n",
        "\n",
        "- filter : 32\n",
        "\n",
        "- kernel_size : 3         \n",
        "\n",
        "- padding : same  \n",
        "\n",
        "- activation : relu  \n",
        "\n",
        "- input_shape : (32, 32, 3)\n",
        "\n",
        "<br>\n",
        "\n",
        "\n",
        " .. // 3x3 사이즈의 필터가 32개\n",
        "\n",
        " <br>\n",
        "\n",
        " padding의 경우 same 또는 valid를 주로 이용\n",
        "\n",
        " <br>\n",
        "\n",
        " same -> 홀수의 배열에 짝수의 필터사이즈인 경우 0을 추가해서 max값을 필터링한다.\n",
        "\n",
        " valid -> 마지막 열을 무시하고 필터사이즈 대로만 max값을 필터링 (마지막 데이터가 소실됨.)\n",
        "\n",
        "\n",
        "\n",
        "\n",
        "\n",
        "\n"
      ],
      "metadata": {
        "id": "Vlodv-nLx4_x"
      }
    },
    {
      "cell_type": "code",
      "source": [
        "# 첫 번째 컨볼루션 레이어 추가\n",
        "\n",
        "model.add(tf.keras.layers.Conv2D(filters=32, kernel_size=3, padding=\"same\", activation=\"relu\", input_shape=[32, 32, 3]))"
      ],
      "metadata": {
        "id": "m9xlM4XSxeQk"
      },
      "execution_count": null,
      "outputs": []
    },
    {
      "cell_type": "markdown",
      "source": [
        "## Adding the second convolutional layer&the max-pooling layer"
      ],
      "metadata": {
        "id": "6LuZzkbcloxW"
      }
    },
    {
      "cell_type": "markdown",
      "source": [
        "맥스 풀링 레이어. 맥스 풀링은 오직 최댓값만을 저장한다. -> 그래서 출력 텐서의 크기를 줄이고, 학습을 덜 복잡하게 함. 하지만 정보는 계속 보관하기 때문에 모델은 계속 학습을 진행한다."
      ],
      "metadata": {
        "id": "PI-W5uH3mA0o"
      }
    },
    {
      "cell_type": "markdown",
      "source": [
        "CNN Layer Hyper-Parameters :     \n",
        "\n",
        "- filters : 32.\n",
        "- kernel_size : 3.  \n",
        "- padding : same\n",
        "- activation : relu\n",
        "\n",
        "MaxPool Layer Hyper-Parameters :     \n",
        "- pool_size : 2.   \n",
        "- strides : 2.       -> 간격을 2개의 간격으로 이동하겠다.\n",
        "- padding : valid"
      ],
      "metadata": {
        "id": "pB5Lp0HbmZHW"
      }
    },
    {
      "cell_type": "code",
      "source": [
        "# 두번째 컨볼루션 레이어\n",
        "model.add(tf.keras.layers.Conv2D(filters=32, kernel_size=3, padding=\"same\", activation=\"relu\"))"
      ],
      "metadata": {
        "id": "lsOjC7NS0dm4"
      },
      "execution_count": null,
      "outputs": []
    },
    {
      "cell_type": "code",
      "source": [
        "model.add(tf.keras.layers.MaxPool2D(pool_size=2, strides=2, padding='valid'))"
      ],
      "metadata": {
        "id": "Hu6q4sNrnI41"
      },
      "execution_count": null,
      "outputs": []
    },
    {
      "cell_type": "markdown",
      "source": [
        "## Adding the third convolutional layer"
      ],
      "metadata": {
        "id": "niwSoF4FnzZX"
      }
    },
    {
      "cell_type": "markdown",
      "source": [
        "CNN Layer Hyper-Parameters :\n",
        "\n",
        "- filters : 64.\n",
        "- kernel_size : 3.\n",
        "- padding : same\n",
        "- activation : relu"
      ],
      "metadata": {
        "id": "PQR1qQ_Xn5p5"
      }
    },
    {
      "cell_type": "code",
      "source": [
        "# 세 번째 컨볼루션 레이어\n",
        "model.add(tf.keras.layers.Conv2D(filters=64, kernel_size=3, padding=\"same\", activation=\"relu\"))"
      ],
      "metadata": {
        "id": "p_gAYgs5nfIp"
      },
      "execution_count": null,
      "outputs": []
    },
    {
      "cell_type": "markdown",
      "source": [
        "## Adding the fourth convolutional layer and max-pooling layer"
      ],
      "metadata": {
        "id": "USZ_kPE0oaMs"
      }
    },
    {
      "cell_type": "markdown",
      "source": [
        "CNN Layer Hyper-Parameters :     \n",
        "\n",
        "- filters : 64\n",
        "- kernel_size : 3.  \n",
        "- padding : same\n",
        "- activation : relu\n",
        "\n",
        "MaxPool Layer Hyper-Parameters :     \n",
        "- pool_size : 2.   \n",
        "- strides : 2.      \n",
        "- padding : valid"
      ],
      "metadata": {
        "id": "BZE_Fahboke_"
      }
    },
    {
      "cell_type": "code",
      "source": [
        "# 마지막 컨볼루션 레이어\n",
        "model.add(tf.keras.layers.Conv2D(filters=64, kernel_size=3, padding=\"same\", activation=\"relu\"))"
      ],
      "metadata": {
        "id": "NT-sxU__oM6K"
      },
      "execution_count": null,
      "outputs": []
    },
    {
      "cell_type": "code",
      "source": [
        "model.add(tf.keras.layers.MaxPool2D(pool_size=2, strides=2, padding='valid'))"
      ],
      "metadata": {
        "id": "CP8X42wCos9t"
      },
      "execution_count": null,
      "outputs": []
    },
    {
      "cell_type": "markdown",
      "source": [
        "## Adding the flattening layer\n",
        "평탄화 레이어를 추가\n",
        "-> 컨볼루션과 맥스 풀링의 최종 결과물을 1차원 레이어로 평탄화 할 것임\n"
      ],
      "metadata": {
        "id": "t8U-Ldc5pBtR"
      }
    },
    {
      "cell_type": "code",
      "source": [
        "# keras에서 평탄화 클래스를 가져오는데 여기에는 입력할 것이 없음.\n",
        "# model에 무엇이 있었는지 자동으로 인식해서 이곳에서 일어날 연산의 결과물을 평탄화할 대상을 이해할 것임.\n",
        "model.add(tf.keras.layers.Flatten())"
      ],
      "metadata": {
        "id": "jKoubf7VpA6j"
      },
      "execution_count": null,
      "outputs": []
    },
    {
      "cell_type": "markdown",
      "source": [
        "## Adding the first fully-connected layer\n",
        "\n",
        "완전 연결 레이어 추가 (출력레이어가 아님!)\n",
        "\n",
        "Dense layer hyper-parameters:\n",
        "- units / neurons : 128 -> 128개의 은닉뉴런을 유닛으로 사용\n",
        "- activation : relu"
      ],
      "metadata": {
        "id": "fXtBC4XmqhvC"
      }
    },
    {
      "cell_type": "code",
      "source": [
        "# 완전 연결 레이어 추가. -> 밀집 클래스 이용\n",
        "model.add(tf.keras.layers.Dense(units=128, activation='relu'))"
      ],
      "metadata": {
        "id": "65zsCGyTpsGl"
      },
      "execution_count": null,
      "outputs": []
    },
    {
      "cell_type": "markdown",
      "source": [
        "## Adding the output layer\n",
        "Dense layer hyper-parameters:\n",
        "- units/neurons : 10 -> 클래스가 10개였기 때문\n",
        "- activations : softmax"
      ],
      "metadata": {
        "id": "pdB6jJ--rYUg"
      }
    },
    {
      "cell_type": "code",
      "source": [
        "model.add(tf.keras.layers.Dense(units=10, activation = 'softmax'))"
      ],
      "metadata": {
        "id": "hGR-RKJRrXUY"
      },
      "execution_count": null,
      "outputs": []
    },
    {
      "cell_type": "code",
      "source": [
        "model.summary()"
      ],
      "metadata": {
        "colab": {
          "base_uri": "https://localhost:8080/"
        },
        "id": "X6EdNbpZr7ih",
        "outputId": "c3fe455d-a0ac-4454-eea3-152f61edee54"
      },
      "execution_count": null,
      "outputs": [
        {
          "output_type": "stream",
          "name": "stdout",
          "text": [
            "Model: \"sequential\"\n",
            "_________________________________________________________________\n",
            " Layer (type)                Output Shape              Param #   \n",
            "=================================================================\n",
            " conv2d (Conv2D)             (None, 32, 32, 32)        896       \n",
            "                                                                 \n",
            " conv2d_1 (Conv2D)           (None, 32, 32, 32)        9248      \n",
            "                                                                 \n",
            " max_pooling2d (MaxPooling2  (None, 16, 16, 32)        0         \n",
            " D)                                                              \n",
            "                                                                 \n",
            " conv2d_2 (Conv2D)           (None, 16, 16, 64)        18496     \n",
            "                                                                 \n",
            " conv2d_3 (Conv2D)           (None, 16, 16, 64)        36928     \n",
            "                                                                 \n",
            " max_pooling2d_1 (MaxPoolin  (None, 8, 8, 64)          0         \n",
            " g2D)                                                            \n",
            "                                                                 \n",
            " flatten (Flatten)           (None, 4096)              0         \n",
            "                                                                 \n",
            " dense (Dense)               (None, 128)               524416    \n",
            "                                                                 \n",
            " dense_1 (Dense)             (None, 10)                1290      \n",
            "                                                                 \n",
            "=================================================================\n",
            "Total params: 591274 (2.26 MB)\n",
            "Trainable params: 591274 (2.26 MB)\n",
            "Non-trainable params: 0 (0.00 Byte)\n",
            "_________________________________________________________________\n"
          ]
        }
      ]
    },
    {
      "cell_type": "markdown",
      "source": [
        "-> output shape을 보면 차원을 알 수 있음.\n",
        "<br>\n",
        "-> 591,274가지의 업데이트될 학습 가능한 방법이 나옴."
      ],
      "metadata": {
        "id": "QOaZATh0sJGG"
      }
    },
    {
      "cell_type": "code",
      "source": [],
      "metadata": {
        "id": "chgeDTLlr8yu"
      },
      "execution_count": null,
      "outputs": []
    },
    {
      "cell_type": "markdown",
      "source": [
        "# CNN 학습, 평가"
      ],
      "metadata": {
        "id": "uizhWonSs30h"
      }
    },
    {
      "cell_type": "markdown",
      "source": [
        "## model compile\n",
        "\n",
        "model을 옵티마이저와 손실과 측정치에 연결시키는 것임.\n",
        "\n",
        "옵티마이저 : 확률적 경사 하강법으로 가중치를 업데이트해 손실을 줄이는 도구\n",
        "\n",
        "손실 : 모델의 예측 사이에 발생한 오류. 모델이 이미지의 내용물을 예측한 내용과 실제 값 사이의 오류\n",
        "\n",
        "학습을 시킬 때는 예측 내용과 비교할 실제 값이 존재해서 손실을 고정하고 최종적으로 업데이트하는 것.(경사하강법으로)\n",
        "\n",
        "옵티마이저는 Adam을 사용. 최고의 확률적 경사하강법 중 하나임.\n",
        "\n",
        "\n",
        "\n"
      ],
      "metadata": {
        "id": "IYQtzevKuQbC"
      }
    },
    {
      "cell_type": "code",
      "source": [
        "model.compile(optimizer='adam', loss='sparse_categorical_crossentropy', metrics=['sparse_categorical_accuracy'])\n",
        "# 아담 옵티마이저, 교차 엔트로피 손실, 희소 카테고리\n",
        "# 희소 카테고리 정확도를 사용하는 이유는 다중클래스이기 때문 . 2개이상의 클래스 분류"
      ],
      "metadata": {
        "id": "a_FuV-AQs3Rm"
      },
      "execution_count": null,
      "outputs": []
    },
    {
      "cell_type": "markdown",
      "source": [
        "## Traing the model"
      ],
      "metadata": {
        "id": "_cNb-jdTwQTn"
      }
    },
    {
      "cell_type": "code",
      "source": [
        "model.fit(X_train, y_train, epochs=5)"
      ],
      "metadata": {
        "colab": {
          "base_uri": "https://localhost:8080/"
        },
        "id": "aVKtv63Bvj17",
        "outputId": "6be099a2-6be8-4187-8268-ac6c0f3363d4"
      },
      "execution_count": null,
      "outputs": [
        {
          "output_type": "stream",
          "name": "stdout",
          "text": [
            "Epoch 1/5\n",
            "1563/1563 [==============================] - 264s 169ms/step - loss: 0.7105 - sparse_categorical_accuracy: 0.7515\n",
            "Epoch 2/5\n",
            "1563/1563 [==============================] - 265s 170ms/step - loss: 0.5874 - sparse_categorical_accuracy: 0.7949\n",
            "Epoch 3/5\n",
            "1563/1563 [==============================] - 269s 172ms/step - loss: 0.4842 - sparse_categorical_accuracy: 0.8289\n",
            "Epoch 4/5\n",
            "1563/1563 [==============================] - 261s 167ms/step - loss: 0.3936 - sparse_categorical_accuracy: 0.8596\n",
            "Epoch 5/5\n",
            "1563/1563 [==============================] - 265s 170ms/step - loss: 0.3160 - sparse_categorical_accuracy: 0.8876\n"
          ]
        },
        {
          "output_type": "execute_result",
          "data": {
            "text/plain": [
              "<keras.src.callbacks.History at 0x7ee40645e1a0>"
            ]
          },
          "metadata": {},
          "execution_count": 23
        }
      ]
    },
    {
      "cell_type": "markdown",
      "source": [
        "## Evaluating the model"
      ],
      "metadata": {
        "id": "EeSPufdLwSti"
      }
    },
    {
      "cell_type": "code",
      "source": [
        "test_loss, test_accuracy = model.evaluate(X_test, y_test)"
      ],
      "metadata": {
        "colab": {
          "base_uri": "https://localhost:8080/"
        },
        "id": "Ut9vuffmwIsL",
        "outputId": "9c837976-fa4f-4b87-d7e3-4992fc26a348"
      },
      "execution_count": null,
      "outputs": [
        {
          "output_type": "stream",
          "name": "stdout",
          "text": [
            "313/313 [==============================] - 14s 45ms/step - loss: 0.9208 - sparse_categorical_accuracy: 0.7403\n"
          ]
        }
      ]
    },
    {
      "cell_type": "code",
      "source": [],
      "metadata": {
        "id": "x9d49NNXwf3o"
      },
      "execution_count": null,
      "outputs": []
    }
  ]
}