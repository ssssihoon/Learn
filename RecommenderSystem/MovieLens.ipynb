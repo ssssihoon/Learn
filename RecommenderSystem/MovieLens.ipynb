{
 "cells": [
  {
   "cell_type": "code",
   "execution_count": 1,
   "metadata": {
    "collapsed": true
   },
   "outputs": [
    {
     "data": {
      "text/plain": "   movie_id                               title  \\\n0         1                    Toy Story (1995)   \n1         2                      Jumanji (1995)   \n2         3             Grumpier Old Men (1995)   \n3         4            Waiting to Exhale (1995)   \n4         5  Father of the Bride Part II (1995)   \n\n                                               genre  \n0  [Adventure, Animation, Children, Comedy, Fantasy]  \n1                     [Adventure, Children, Fantasy]  \n2                                  [Comedy, Romance]  \n3                           [Comedy, Drama, Romance]  \n4                                           [Comedy]  ",
      "text/html": "<div>\n<style scoped>\n    .dataframe tbody tr th:only-of-type {\n        vertical-align: middle;\n    }\n\n    .dataframe tbody tr th {\n        vertical-align: top;\n    }\n\n    .dataframe thead th {\n        text-align: right;\n    }\n</style>\n<table border=\"1\" class=\"dataframe\">\n  <thead>\n    <tr style=\"text-align: right;\">\n      <th></th>\n      <th>movie_id</th>\n      <th>title</th>\n      <th>genre</th>\n    </tr>\n  </thead>\n  <tbody>\n    <tr>\n      <th>0</th>\n      <td>1</td>\n      <td>Toy Story (1995)</td>\n      <td>[Adventure, Animation, Children, Comedy, Fantasy]</td>\n    </tr>\n    <tr>\n      <th>1</th>\n      <td>2</td>\n      <td>Jumanji (1995)</td>\n      <td>[Adventure, Children, Fantasy]</td>\n    </tr>\n    <tr>\n      <th>2</th>\n      <td>3</td>\n      <td>Grumpier Old Men (1995)</td>\n      <td>[Comedy, Romance]</td>\n    </tr>\n    <tr>\n      <th>3</th>\n      <td>4</td>\n      <td>Waiting to Exhale (1995)</td>\n      <td>[Comedy, Drama, Romance]</td>\n    </tr>\n    <tr>\n      <th>4</th>\n      <td>5</td>\n      <td>Father of the Bride Part II (1995)</td>\n      <td>[Comedy]</td>\n    </tr>\n  </tbody>\n</table>\n</div>"
     },
     "execution_count": 1,
     "metadata": {},
     "output_type": "execute_result"
    }
   ],
   "source": [
    "import pandas as pd\n",
    "\n",
    "m_cols = ['movie_id', 'title', 'genre']\n",
    "movies = pd.read_csv(\"/Users/sihoon/Desktop/ml-10M100K/movies.dat\", names=m_cols, sep='::', encoding='latin-1', engine='python') # m_cols : m_cols라는 컬럼의 값들을 컬럼명으로 사용, engine : 원래 pandas가 c를 기준으로 좋음 파이썬으로 정의\n",
    "\n",
    "movies['genre'] = movies.genre.apply(lambda  x : x.split('|'))\n",
    "movies.head()"
   ]
  },
  {
   "cell_type": "code",
   "execution_count": 2,
   "outputs": [
    {
     "data": {
      "text/plain": "   user_id  movie_id              tag   timestamp\n0       15      4973       excellent!  1215184630\n1       20      1747         politics  1188263867\n2       20      1747           satire  1188263867\n3       20      2424  chick flick 212  1188263835\n4       20      2424            hanks  1188263835",
      "text/html": "<div>\n<style scoped>\n    .dataframe tbody tr th:only-of-type {\n        vertical-align: middle;\n    }\n\n    .dataframe tbody tr th {\n        vertical-align: top;\n    }\n\n    .dataframe thead th {\n        text-align: right;\n    }\n</style>\n<table border=\"1\" class=\"dataframe\">\n  <thead>\n    <tr style=\"text-align: right;\">\n      <th></th>\n      <th>user_id</th>\n      <th>movie_id</th>\n      <th>tag</th>\n      <th>timestamp</th>\n    </tr>\n  </thead>\n  <tbody>\n    <tr>\n      <th>0</th>\n      <td>15</td>\n      <td>4973</td>\n      <td>excellent!</td>\n      <td>1215184630</td>\n    </tr>\n    <tr>\n      <th>1</th>\n      <td>20</td>\n      <td>1747</td>\n      <td>politics</td>\n      <td>1188263867</td>\n    </tr>\n    <tr>\n      <th>2</th>\n      <td>20</td>\n      <td>1747</td>\n      <td>satire</td>\n      <td>1188263867</td>\n    </tr>\n    <tr>\n      <th>3</th>\n      <td>20</td>\n      <td>2424</td>\n      <td>chick flick 212</td>\n      <td>1188263835</td>\n    </tr>\n    <tr>\n      <th>4</th>\n      <td>20</td>\n      <td>2424</td>\n      <td>hanks</td>\n      <td>1188263835</td>\n    </tr>\n  </tbody>\n</table>\n</div>"
     },
     "execution_count": 2,
     "metadata": {},
     "output_type": "execute_result"
    }
   ],
   "source": [
    "t_cols = ['user_id', 'movie_id', 'tag', 'timestamp']\n",
    "user_tagged_movies = pd.read_csv('/Users/sihoon/Desktop/ml-10M100K/tags.dat', names=t_cols, sep='::', engine='python')\n",
    "\n",
    "user_tagged_movies['tag'] = user_tagged_movies['tag'].str.lower()\n",
    "\n",
    "user_tagged_movies.head()"
   ],
   "metadata": {
    "collapsed": false
   }
  },
  {
   "cell_type": "code",
   "execution_count": 3,
   "outputs": [
    {
     "data": {
      "text/plain": "   movie_id                               title  \\\n0         1                    Toy Story (1995)   \n1         2                      Jumanji (1995)   \n2         3             Grumpier Old Men (1995)   \n3         4            Waiting to Exhale (1995)   \n4         5  Father of the Bride Part II (1995)   \n\n                                               genre  \\\n0  [Adventure, Animation, Children, Comedy, Fantasy]   \n1                     [Adventure, Children, Fantasy]   \n2                                  [Comedy, Romance]   \n3                           [Comedy, Drama, Romance]   \n4                                           [Comedy]   \n\n                                                 tag  \n0  [pixar, pixar, pixar, animation, pixar, animat...  \n1  [for children, game, animals, joe johnston, ro...  \n2  [funniest movies, comedinha de velhinhos engra...  \n3                                       [girl movie]  \n4  [steve martin, pregnancy, remake, steve martin...  ",
      "text/html": "<div>\n<style scoped>\n    .dataframe tbody tr th:only-of-type {\n        vertical-align: middle;\n    }\n\n    .dataframe tbody tr th {\n        vertical-align: top;\n    }\n\n    .dataframe thead th {\n        text-align: right;\n    }\n</style>\n<table border=\"1\" class=\"dataframe\">\n  <thead>\n    <tr style=\"text-align: right;\">\n      <th></th>\n      <th>movie_id</th>\n      <th>title</th>\n      <th>genre</th>\n      <th>tag</th>\n    </tr>\n  </thead>\n  <tbody>\n    <tr>\n      <th>0</th>\n      <td>1</td>\n      <td>Toy Story (1995)</td>\n      <td>[Adventure, Animation, Children, Comedy, Fantasy]</td>\n      <td>[pixar, pixar, pixar, animation, pixar, animat...</td>\n    </tr>\n    <tr>\n      <th>1</th>\n      <td>2</td>\n      <td>Jumanji (1995)</td>\n      <td>[Adventure, Children, Fantasy]</td>\n      <td>[for children, game, animals, joe johnston, ro...</td>\n    </tr>\n    <tr>\n      <th>2</th>\n      <td>3</td>\n      <td>Grumpier Old Men (1995)</td>\n      <td>[Comedy, Romance]</td>\n      <td>[funniest movies, comedinha de velhinhos engra...</td>\n    </tr>\n    <tr>\n      <th>3</th>\n      <td>4</td>\n      <td>Waiting to Exhale (1995)</td>\n      <td>[Comedy, Drama, Romance]</td>\n      <td>[girl movie]</td>\n    </tr>\n    <tr>\n      <th>4</th>\n      <td>5</td>\n      <td>Father of the Bride Part II (1995)</td>\n      <td>[Comedy]</td>\n      <td>[steve martin, pregnancy, remake, steve martin...</td>\n    </tr>\n  </tbody>\n</table>\n</div>"
     },
     "execution_count": 3,
     "metadata": {},
     "output_type": "execute_result"
    }
   ],
   "source": [
    "movie_tags = user_tagged_movies.groupby('movie_id').agg({'tag':list}) # tag를 영화별로 list 형식으로 저장\n",
    "movies = movies.merge(movie_tags, on='movie_id', how='left')\n",
    "\n",
    "movies.head()"
   ],
   "metadata": {
    "collapsed": false
   }
  },
  {
   "cell_type": "markdown",
   "source": [
    "**이 아래부분의 경우, 데이터의 양이 많아 시간이 오래 걸린다.**"
   ],
   "metadata": {
    "collapsed": false
   }
  },
  {
   "cell_type": "code",
   "execution_count": 4,
   "outputs": [
    {
     "data": {
      "text/plain": "   user_id  movie_id  rating  timestamp\n0        1       122     5.0  838985046\n1        1       185     5.0  838983525\n2        1       231     5.0  838983392\n3        1       292     5.0  838983421\n4        1       316     5.0  838983392",
      "text/html": "<div>\n<style scoped>\n    .dataframe tbody tr th:only-of-type {\n        vertical-align: middle;\n    }\n\n    .dataframe tbody tr th {\n        vertical-align: top;\n    }\n\n    .dataframe thead th {\n        text-align: right;\n    }\n</style>\n<table border=\"1\" class=\"dataframe\">\n  <thead>\n    <tr style=\"text-align: right;\">\n      <th></th>\n      <th>user_id</th>\n      <th>movie_id</th>\n      <th>rating</th>\n      <th>timestamp</th>\n    </tr>\n  </thead>\n  <tbody>\n    <tr>\n      <th>0</th>\n      <td>1</td>\n      <td>122</td>\n      <td>5.0</td>\n      <td>838985046</td>\n    </tr>\n    <tr>\n      <th>1</th>\n      <td>1</td>\n      <td>185</td>\n      <td>5.0</td>\n      <td>838983525</td>\n    </tr>\n    <tr>\n      <th>2</th>\n      <td>1</td>\n      <td>231</td>\n      <td>5.0</td>\n      <td>838983392</td>\n    </tr>\n    <tr>\n      <th>3</th>\n      <td>1</td>\n      <td>292</td>\n      <td>5.0</td>\n      <td>838983421</td>\n    </tr>\n    <tr>\n      <th>4</th>\n      <td>1</td>\n      <td>316</td>\n      <td>5.0</td>\n      <td>838983392</td>\n    </tr>\n  </tbody>\n</table>\n</div>"
     },
     "execution_count": 4,
     "metadata": {},
     "output_type": "execute_result"
    }
   ],
   "source": [
    "r_cols = ['user_id', 'movie_id', 'rating', 'timestamp']\n",
    "ratings = pd.read_csv('/Users/sihoon/Desktop/ml-10M100K/ratings.dat', names=r_cols, sep='::', engine='python')\n",
    "ratings.head()"
   ],
   "metadata": {
    "collapsed": false
   }
  },
  {
   "cell_type": "markdown",
   "source": [
    "**이 아래처럼 실무에서는 이렇게 작게 나눠서 실험을 반복한다.**"
   ],
   "metadata": {
    "collapsed": false
   }
  },
  {
   "cell_type": "code",
   "execution_count": 5,
   "outputs": [
    {
     "data": {
      "text/plain": "   user_id  movie_id  rating   timestamp             title              genre  \\\n0        1       122     5.0   838985046  Boomerang (1992)  [Comedy, Romance]   \n1      139       122     3.0   974302621  Boomerang (1992)  [Comedy, Romance]   \n2      149       122     2.5  1112342322  Boomerang (1992)  [Comedy, Romance]   \n3      182       122     3.0   943458784  Boomerang (1992)  [Comedy, Romance]   \n4      215       122     4.5  1102493547  Boomerang (1992)  [Comedy, Romance]   \n\n                                                 tag  \n0  [dating, nudity (topless - brief), can't remem...  \n1  [dating, nudity (topless - brief), can't remem...  \n2  [dating, nudity (topless - brief), can't remem...  \n3  [dating, nudity (topless - brief), can't remem...  \n4  [dating, nudity (topless - brief), can't remem...  ",
      "text/html": "<div>\n<style scoped>\n    .dataframe tbody tr th:only-of-type {\n        vertical-align: middle;\n    }\n\n    .dataframe tbody tr th {\n        vertical-align: top;\n    }\n\n    .dataframe thead th {\n        text-align: right;\n    }\n</style>\n<table border=\"1\" class=\"dataframe\">\n  <thead>\n    <tr style=\"text-align: right;\">\n      <th></th>\n      <th>user_id</th>\n      <th>movie_id</th>\n      <th>rating</th>\n      <th>timestamp</th>\n      <th>title</th>\n      <th>genre</th>\n      <th>tag</th>\n    </tr>\n  </thead>\n  <tbody>\n    <tr>\n      <th>0</th>\n      <td>1</td>\n      <td>122</td>\n      <td>5.0</td>\n      <td>838985046</td>\n      <td>Boomerang (1992)</td>\n      <td>[Comedy, Romance]</td>\n      <td>[dating, nudity (topless - brief), can't remem...</td>\n    </tr>\n    <tr>\n      <th>1</th>\n      <td>139</td>\n      <td>122</td>\n      <td>3.0</td>\n      <td>974302621</td>\n      <td>Boomerang (1992)</td>\n      <td>[Comedy, Romance]</td>\n      <td>[dating, nudity (topless - brief), can't remem...</td>\n    </tr>\n    <tr>\n      <th>2</th>\n      <td>149</td>\n      <td>122</td>\n      <td>2.5</td>\n      <td>1112342322</td>\n      <td>Boomerang (1992)</td>\n      <td>[Comedy, Romance]</td>\n      <td>[dating, nudity (topless - brief), can't remem...</td>\n    </tr>\n    <tr>\n      <th>3</th>\n      <td>182</td>\n      <td>122</td>\n      <td>3.0</td>\n      <td>943458784</td>\n      <td>Boomerang (1992)</td>\n      <td>[Comedy, Romance]</td>\n      <td>[dating, nudity (topless - brief), can't remem...</td>\n    </tr>\n    <tr>\n      <th>4</th>\n      <td>215</td>\n      <td>122</td>\n      <td>4.5</td>\n      <td>1102493547</td>\n      <td>Boomerang (1992)</td>\n      <td>[Comedy, Romance]</td>\n      <td>[dating, nudity (topless - brief), can't remem...</td>\n    </tr>\n  </tbody>\n</table>\n</div>"
     },
     "execution_count": 5,
     "metadata": {},
     "output_type": "execute_result"
    }
   ],
   "source": [
    "valid_user_ids= sorted(ratings.user_id.unique())[:1000] # 우선 1000개의 데이터만\n",
    "ratings = ratings[ratings[\"user_id\"].isin(valid_user_ids)]\n",
    "\n",
    "movielens = ratings.merge(movies, on='movie_id')\n",
    "movielens.head()"
   ],
   "metadata": {
    "collapsed": false
   }
  },
  {
   "cell_type": "markdown",
   "source": [
    "---"
   ],
   "metadata": {
    "collapsed": false
   }
  },
  {
   "cell_type": "code",
   "execution_count": 6,
   "outputs": [
    {
     "data": {
      "text/plain": "'\\n가장 평가 수가 적은 사용자는 20 작품에 평가\\n가장 평가 수가 많은 사용자는 1668 작품에 평가\\n각 사용자는 평균 139 작품에 평가\\n평가한 모든 사용자는 1000명\\n'"
     },
     "execution_count": 6,
     "metadata": {},
     "output_type": "execute_result"
    }
   ],
   "source": [
    "import numpy as np\n",
    "movielens.groupby('user_id').agg({'movie_id' : len}).agg({'movie_id' : [min, max, np.mean, len]})\n",
    "\n",
    "'''\n",
    "가장 평가 수가 적은 사용자는 20 작품에 평가\n",
    "가장 평가 수가 많은 사용자는 1668 작품에 평가\n",
    "각 사용자는 평균 139 작품에 평가\n",
    "평가한 모든 사용자는 1000명\n",
    "'''"
   ],
   "metadata": {
    "collapsed": false
   }
  },
  {
   "cell_type": "code",
   "execution_count": 7,
   "outputs": [
    {
     "data": {
      "text/plain": "'\\n가장 평가 수가 적은 영화는 1명이 평가\\n가장 평가 수가 많은 영화는 496명이 평가\\n각 영화는 평균 20명이 평가\\n평가된 모든 영화는 6736 작품\\n'"
     },
     "execution_count": 7,
     "metadata": {},
     "output_type": "execute_result"
    }
   ],
   "source": [
    "import numpy as np\n",
    "movielens.groupby('movie_id').agg({'movie_id' : len}).agg({'movie_id' : [min, max, np.mean, len]})\n",
    "\n",
    "'''\n",
    "가장 평가 수가 적은 영화는 1명이 평가\n",
    "가장 평가 수가 많은 영화는 496명이 평가\n",
    "각 영화는 평균 20명이 평가\n",
    "평가된 모든 영화는 6736 작품\n",
    "'''"
   ],
   "metadata": {
    "collapsed": false
   }
  },
  {
   "cell_type": "code",
   "execution_count": 8,
   "outputs": [],
   "source": [
    "movielens['timestamp_rank'] = movielens.groupby('user_id')['timestamp'].rank(ascending=False, method='first')\n",
    "'''\n",
    "학습용과 테스트용으로 데이터를 분할\n",
    "각 사용자가 가장 최근에 평가한 5건의 영화를 평가용으로 사용하고 그 외에는 학습용으로 사용\n",
    "먼적 각 사용자가 평가한 영화의 순서를 계산\n",
    "직전에 평가한 영화부터 순서를 부여해 나간다. (1에서 시작)\n",
    "\n",
    "method='first'를 사용해 동일한 값 중에서 먼저 나타나는 것에 더 낮은 순위를 부여합니다.\n",
    "method='first'는 rank 메서드에서 동일한 값이 있는 경우에 순위를 부여하는 방식을 지정하는 매개변수입니다.\n",
    "\n",
    "'''\n",
    "movielens_train = movielens[movielens['timestamp_rank'] > 5]\n",
    "movielens_test = movielens[movielens['timestamp_rank'] <= 5]"
   ],
   "metadata": {
    "collapsed": false
   }
  },
  {
   "cell_type": "markdown",
   "source": [
    "***학습용 데이터를 사용해 사용자가 가장 최근에 평가한 5개 영화의 평갓값을 얼마나 정확하게 예측할 수 있는가로 추천 알고리즘의 성능을 평가한다. 그 지표는 RMSE를 사용\n",
    "예측이 실제 평갓값과 완전히 일치하면 RMSE는 0이 된다. RMSE가 작을수록 추천 알고리즘의 성능이 좋다고 볼 수 있다.***"
   ],
   "metadata": {
    "collapsed": false
   }
  },
  {
   "cell_type": "code",
   "execution_count": 9,
   "outputs": [
    {
     "data": {
      "text/plain": "'\\n위 코드는 파이썬에서 구현된 평균 제곱 오차 (Mean Squared Error, MSE)를 계산하고 이를 제곱근을 취해 반환하는 함수입니다. 이 함수는 회귀 문제에서 모델의 예측값과 실제값 간의 평균 제곱 오차를 평가하는 데 사용됩니다.\\n\\n함수의 입력은 두 개의 리스트인 true_rating과 pred_rating입니다. true_rating은 모델을 평가할 실제 값들을 포함하는 리스트이고, pred_rating은 모델이 예측한 값들을 포함하는 리스트입니다.\\n\\n함수는 mean_squared_error 함수를 사용하여 두 리스트 간의 평균 제곱 오차를 계산합니다. 그 후, 이 값을 np.sqrt 함수를 사용하여 제곱근을 취하여 최종적으로 평균 제곱근 오차(RMSE)를 계산하고 반환합니다.\\n\\n'"
     },
     "execution_count": 9,
     "metadata": {},
     "output_type": "execute_result"
    }
   ],
   "source": [
    "from typing import List\n",
    "from sklearn.metrics import mean_squared_error\n",
    "def calc_rmse(self, true_rating: List[float], pred_rating: List[float]) -> float:\n",
    "    return np.sqrt(mean_squared_error(true_rating, pred_rating))\n",
    "\n",
    "'''\n",
    "위 코드는 파이썬에서 구현된 평균 제곱 오차 (Mean Squared Error, MSE)를 계산하고 이를 제곱근을 취해 반환하는 함수입니다. 이 함수는 회귀 문제에서 모델의 예측값과 실제값 간의 평균 제곱 오차를 평가하는 데 사용됩니다.\n",
    "\n",
    "함수의 입력은 두 개의 리스트인 true_rating과 pred_rating입니다. true_rating은 모델을 평가할 실제 값들을 포함하는 리스트이고, pred_rating은 모델이 예측한 값들을 포함하는 리스트입니다.\n",
    "\n",
    "함수는 mean_squared_error 함수를 사용하여 두 리스트 간의 평균 제곱 오차를 계산합니다. 그 후, 이 값을 np.sqrt 함수를 사용하여 제곱근을 취하여 최종적으로 평균 제곱근 오차(RMSE)를 계산하고 반환합니다.\n",
    "\n",
    "'''"
   ],
   "metadata": {
    "collapsed": false
   }
  },
  {
   "cell_type": "code",
   "execution_count": null,
   "outputs": [],
   "source": [],
   "metadata": {
    "collapsed": false
   }
  }
 ],
 "metadata": {
  "kernelspec": {
   "display_name": "Python 3",
   "language": "python",
   "name": "python3"
  },
  "language_info": {
   "codemirror_mode": {
    "name": "ipython",
    "version": 2
   },
   "file_extension": ".py",
   "mimetype": "text/x-python",
   "name": "python",
   "nbconvert_exporter": "python",
   "pygments_lexer": "ipython2",
   "version": "2.7.6"
  }
 },
 "nbformat": 4,
 "nbformat_minor": 0
}
