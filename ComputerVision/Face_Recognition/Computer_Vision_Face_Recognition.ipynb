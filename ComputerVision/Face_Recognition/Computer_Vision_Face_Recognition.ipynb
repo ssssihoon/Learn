{
 "cells": [
  {
   "cell_type": "code",
   "execution_count": 2,
   "metadata": {
    "collapsed": true
   },
   "outputs": [],
   "source": [
    "# 파이썬에서 이미지를 작업할 수 있도록 해줌\n",
    "from PIL import Image\n",
    "import cv2\n",
    "import numpy as np"
   ]
  },
  {
   "cell_type": "code",
   "execution_count": 3,
   "outputs": [],
   "source": [
    "# zip형식의 압축을 해제할 필요가 있기 때문에 사용\n",
    "import zipfile\n",
    "path = '/Users/sihoon/Desktop/ComputerVision/Computer Vision Masterclass/Datasets/yalefaces.zip'\n",
    "zip_object = zipfile.ZipFile(file = path, mode = 'r') # read\n",
    "zip_object.extractall('./') # 앞으로 모든 파일을 이 루트 디렉토리에 저장한다는 뜻\n",
    "zip_object.close()"
   ],
   "metadata": {
    "collapsed": false
   }
  },
  {
   "cell_type": "markdown",
   "source": [
    "## Pre-processing the images"
   ],
   "metadata": {
    "collapsed": false
   }
  },
  {
   "cell_type": "code",
   "execution_count": 4,
   "outputs": [
    {
     "name": "stdout",
     "output_type": "stream",
     "text": [
      "['subject08.wink.gif', 'subject09.wink.gif', 'subject02.glasses.gif', 'subject15.happy.gif', 'subject06.noglasses.gif', 'subject11.noglasses.gif', 'subject03.sad.gif', 'subject05.normal.gif', 'subject14.leftlight.gif', 'subject15.noglasses.gif', 'subject02.noglasses.gif', 'subject06.rightlight.gif', 'subject13.rightlight.gif', 'subject06.centerlight.gif', 'subject10.leftlight.gif', 'subject09.centerlight.gif', 'subject02.wink.gif', 'subject03.wink.gif', 'subject11.sleepy.gif', 'subject14.rightlight.gif', 'subject01.rightlight.gif', 'subject08.sleepy.gif', 'subject14.sleepy.gif', 'subject12.glasses.gif', 'subject13.happy.gif', 'subject11.normal.gif', 'subject02.sad.gif', 'subject12.sad.gif', 'subject15.wink.gif', 'subject14.wink.gif', 'subject08.surprised.gif', 'subject12.noglasses.gif', 'subject05.noglasses.gif', 'subject07.glasses.gif', 'subject07.rightlight.gif', 'subject01.noglasses.gif', 'subject13.leftlight.gif', 'subject10.rightlight.gif', 'subject05.rightlight.gif', 'subject06.surprised.gif', 'subject11.surprised.gif', 'subject14.happy.gif', 'subject15.surprised.gif', 'subject02.surprised.gif', 'subject02.sleepy.gif', 'subject04.glasses.gif', 'subject07.normal.gif', 'subject12.wink.gif', 'subject13.wink.gif', 'subject02.rightlight.gif', 'subject14.glasses.gif', 'subject13.normal.gif', 'subject01.sad.gif', 'subject11.sad.gif', 'subject03.rightlight.gif', 'subject07.centerlight.gif', 'subject08.glasses.gif', 'subject12.happy.gif', 'subject08.centerlight.gif', 'subject08.noglasses.gif', 'subject12.surprised.gif', 'subject08.sad.gif', 'subject05.wink.gif', 'subject04.wink.gif', 'subject02.normal.gif', 'subject01.surprised.gif', 'subject04.rightlight.gif', 'subject11.rightlight.gif', 'subject01.glasses.gif', 'subject09.leftlight.gif', 'subject07.sleepy.gif', 'subject11.centerlight.gif', 'subject09.sleepy.gif', 'subject14.centerlight.gif', 'subject10.normal.gif', 'subject06.glasses.gif', 'subject15.sleepy.gif', 'subject03.happy.gif', 'subject13.glasses.gif', 'subject04.sleepy.gif', 'subject08.leftlight.gif', 'subject01.normal.gif', 'subject04.sad.gif', 'subject09.noglasses.gif', 'subject13.surprised.gif', 'subject04.normal.gif', 'subject05.centerlight.gif', 'subject03.surprised.gif', 'subject05.happy.gif', 'subject01.wink.gif', 'subject14.surprised.gif', 'subject01.sleepy.gif', 'subject05.sad.gif', 'subject10.surprised.gif', 'subject07.surprised.gif', 'subject08.happy.gif', 'subject09.normal.gif', 'subject13.centerlight.gif', 'subject10.sleepy.gif', 'subject15.normal.gif', 'subject06.wink.gif', 'subject07.wink.gif', 'subject04.centerlight.gif', 'subject07.sad.gif', 'subject02.happy.gif', 'subject05.leftlight.gif', 'subject12.leftlight.gif', 'subject12.centerlight.gif', 'subject09.glasses.gif', 'subject01.leftlight.gif', 'subject06.sleepy.gif', 'subject15.glasses.gif', 'subject04.noglasses.gif', 'subject03.normal.gif', 'subject09.surprised.gif', 'subject13.noglasses.gif', 'subject04.happy.gif', 'subject11.leftlight.gif', 'subject11.wink.gif', 'subject10.wink.gif', 'subject03.noglasses.gif', 'subject10.happy.gif', 'subject14.noglasses.gif', 'subject06.normal.gif', 'subject15.leftlight.gif', 'subject10.glasses.gif', 'subject10.noglasses.gif', 'subject15.centerlight.gif', 'subject03.sleepy.gif', 'subject07.noglasses.gif', 'subject05.glasses.gif', 'subject12.sleepy.gif', 'subject09.happy.gif', 'subject03.centerlight.gif', 'subject06.sad.gif']\n"
     ]
    }
   ],
   "source": [
    "import os\n",
    "\n",
    "print(os.listdir('/Users/sihoon/Desktop/ComputerVision/Computer Vision Masterclass/yalefaces/train'))"
   ],
   "metadata": {
    "collapsed": false
   }
  },
  {
   "cell_type": "code",
   "execution_count": 27,
   "outputs": [],
   "source": [
    "# 해당 이미지를 읽어 들인 다음, 본 알고리즘에 전송하기 위해 필요한 형식으로 설정하기 위한 함수\n",
    "\n",
    "def get_image_data():\n",
    "    paths = [os.path.join('/Users/sihoon/Desktop/ComputerVision/Computer Vision Masterclass/yalefaces/train', f) for f in os.listdir('/Users/sihoon/Desktop/ComputerVision/Computer Vision Masterclass/yalefaces/train')]\n",
    "    # 각 파일을 읽어 들이고 이들을 목록 형식으로 변환한 다음 join에 입력한 루트 디렉터리로 목록을 합치는 것이다.\n",
    "\n",
    "    #print(paths)\n",
    "    faces = []\n",
    "    ids = []\n",
    "    for path in paths:\n",
    "        #print(path)\n",
    "        image = Image.open(path).convert('L') # L : 이미지 모드 (흑백 이미지 ; 단일이미지, Luminance)\n",
    "        #print(type(image))\n",
    "        image_np = np.array(image, 'uint8')\n",
    "        #print(type(image_np))\n",
    "        id = os.path.split(path)[1].split('.')[0].replace('subject', '') # subject의 클래스만 추출\n",
    "        print(id)\n",
    "\n"
   ],
   "metadata": {
    "collapsed": false
   }
  },
  {
   "cell_type": "code",
   "execution_count": 28,
   "outputs": [
    {
     "name": "stdout",
     "output_type": "stream",
     "text": [
      "08\n",
      "09\n",
      "02\n",
      "15\n",
      "06\n",
      "11\n",
      "03\n",
      "05\n",
      "14\n",
      "15\n",
      "02\n",
      "06\n",
      "13\n",
      "06\n",
      "10\n",
      "09\n",
      "02\n",
      "03\n",
      "11\n",
      "14\n",
      "01\n",
      "08\n",
      "14\n",
      "12\n",
      "13\n",
      "11\n",
      "02\n",
      "12\n",
      "15\n",
      "14\n",
      "08\n",
      "12\n",
      "05\n",
      "07\n",
      "07\n",
      "01\n",
      "13\n",
      "10\n",
      "05\n",
      "06\n",
      "11\n",
      "14\n",
      "15\n",
      "02\n",
      "02\n",
      "04\n",
      "07\n",
      "12\n",
      "13\n",
      "02\n",
      "14\n",
      "13\n",
      "01\n",
      "11\n",
      "03\n",
      "07\n",
      "08\n",
      "12\n",
      "08\n",
      "08\n",
      "12\n",
      "08\n",
      "05\n",
      "04\n",
      "02\n",
      "01\n",
      "04\n",
      "11\n",
      "01\n",
      "09\n",
      "07\n",
      "11\n",
      "09\n",
      "14\n",
      "10\n",
      "06\n",
      "15\n",
      "03\n",
      "13\n",
      "04\n",
      "08\n",
      "01\n",
      "04\n",
      "09\n",
      "13\n",
      "04\n",
      "05\n",
      "03\n",
      "05\n",
      "01\n",
      "14\n",
      "01\n",
      "05\n",
      "10\n",
      "07\n",
      "08\n",
      "09\n",
      "13\n",
      "10\n",
      "15\n",
      "06\n",
      "07\n",
      "04\n",
      "07\n",
      "02\n",
      "05\n",
      "12\n",
      "12\n",
      "09\n",
      "01\n",
      "06\n",
      "15\n",
      "04\n",
      "03\n",
      "09\n",
      "13\n",
      "04\n",
      "11\n",
      "11\n",
      "10\n",
      "03\n",
      "10\n",
      "14\n",
      "06\n",
      "15\n",
      "10\n",
      "10\n",
      "15\n",
      "03\n",
      "07\n",
      "05\n",
      "12\n",
      "09\n",
      "03\n",
      "06\n"
     ]
    }
   ],
   "source": [
    "get_image_data()"
   ],
   "metadata": {
    "collapsed": false
   }
  },
  {
   "cell_type": "code",
   "execution_count": null,
   "outputs": [],
   "source": [],
   "metadata": {
    "collapsed": false
   }
  }
 ],
 "metadata": {
  "kernelspec": {
   "display_name": "Python 3",
   "language": "python",
   "name": "python3"
  },
  "language_info": {
   "codemirror_mode": {
    "name": "ipython",
    "version": 2
   },
   "file_extension": ".py",
   "mimetype": "text/x-python",
   "name": "python",
   "nbconvert_exporter": "python",
   "pygments_lexer": "ipython2",
   "version": "2.7.6"
  }
 },
 "nbformat": 4,
 "nbformat_minor": 0
}
