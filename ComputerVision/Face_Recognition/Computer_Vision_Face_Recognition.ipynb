#%%
# 파이썬에서 이미지를 작업할 수 있도록 해줌
from PIL import Image
import cv2
import numpy as np
#%%
# zip형식의 압축을 해제할 필요가 있기 때문에 사용
import zipfile
path = '/Users/sihoon/Desktop/ComputerVision/Computer Vision Masterclass/Datasets/yalefaces.zip'
zip_object = zipfile.ZipFile(file = path, mode = 'r') # read
zip_object.extractall('./') # 앞으로 모든 파일을 이 루트 디렉토리에 저장한다는 뜻
zip_object.close()
#%% md
## Pre-processing the images
#%%
import os

print(os.listdir('/Users/sihoon/Desktop/ComputerVision/Computer Vision Masterclass/yalefaces/train'))
#%%
# 해당 이미지를 읽어 들인 다음, 본 알고리즘에 전송하기 위해 필요한 형식으로 설정하기 위한 함수

def get_image_data():
    paths = [os.path.join('/Users/sihoon/Desktop/ComputerVision/Computer Vision Masterclass/yalefaces/train', f) for f in os.listdir('/Users/sihoon/Desktop/ComputerVision/Computer Vision Masterclass/yalefaces/train')]
    # 각 파일을 읽어 들이고 이들을 목록 형식으로 변환한 다음 join에 입력한 루트 디렉터리로 목록을 합치는 것이다.

    #print(paths)
    faces = []
    ids = []
    for path in paths:
        #print(path)
        image = Image.open(path).convert('L') # L : 이미지 모드 (흑백 이미지 ; 단일이미지, Luminance)
        #print(type(image))
        image_np = np.array(image, 'uint8')
        #print(type(image_np))
        id = int(os.path.split(path)[1].split('.')[0].replace('subject', '')) # subject의 클래스만 추출, 정수형으로 변환해 숫자만 남김
        #print(id)
        ids.append(id)
        faces.append(image_np)

    return np.array(ids), faces

#%%
ids, faces = get_image_data()
#%%
ids
#%%
len(ids)
#%%
faces
#%%
len(faces)
#%%
faces[0], faces[0].shape # 흑백사진
#%% md
## LBPH (Local Binary Patterns Histograms)
#%%
# import cv2
#
# lbph_classifier = cv2.face.LBPHFaceRecognizer()
# lbph_classifier.train(faces, ids)
# lbph_classifier.write('lbph_classifier.yml') # 분류기를 저장할 때 기본형식 yml
#%% md
## Recognizing faces
#%%
lbph_face_classifier = cv2.face.LBPHFaceRecognizer_create()
lbph_face_classifier.read('/Users/sihoon/Desktop/ComputerVision/Face_Recognition/lbph_classifier.yml')
#%%
test_image = '/Users/sihoon/Desktop/ComputerVision/Face_Recognition/yalefaces/test/subject10.sad.gif'
#%%
image = Image.open(test_image).convert('L')
image_np = np.array(image, 'uint8')
#%%
image_np.shape
#%%
prediction = lbph_face_classifier.predict(image_np)
prediction
#%%
import os
#%%
prediction[0]
#%%
expected_output = int(os.path.split(test_image)[1].split('.')[0].replace('subject', ''))
expected_output
#%%
cv2.putText(image_np, 'PredL: ' + str(prediction[0]), (10, 30), cv2.FONT_HERSHEY_COMPLEX_SMALL, 1, (0, 255, 0))
cv2.putText(image_np, 'EXP: ' + str(expected_output), (10, 50), cv2.FONT_HERSHEY_COMPLEX_SMALL, 1, (0, 255, 0))
cv2.imshow('Image', image_np)
cv2.waitKey(0)  # 아무 키 입력 대기
cv2.destroyAllWindows()  # 모든 윈도우 닫기
#%% md
## Evaluating the face classifier
#%%
# 이미지 전처리
paths = [os.path.join('/Users/sihoon/Desktop/ComputerVision/Face_Recognition/yalefaces/test', f) for f in os.listdir('/Users/sihoon/Desktop/ComputerVision/Face_Recognition/yalefaces/test')]
predictions = []
expected_outputs = []
for path in paths:
    #print(path)
    image = Image.open(path).convert('L')
    image_np = np.array(image, 'uint8')
    prediction, _ = lbph_face_classifier.predict(image_np)
    expected_output = int(os.path.split(path)[1].split('.')[0].replace('subject', ''))

    predictions.append(prediction)
    expected_outputs.append(expected_output)
#%%
predictions = np.array(predictions)
expected_outputs = np.array(expected_outputs)
#%%
predictions
#%%
expected_outputs
#%%
from sklearn.metrics import accuracy_score
accuracy_score(expected_outputs, predictions)
#%%
len(predictions)
#%%
from sklearn.metrics import confusion_matrix
cm = confusion_matrix(expected_outputs, predictions)
cm
#%%
# 오차행렬 시각화
import seaborn as sns

sns.heatmap(cm, annot=True);
#%% md
## Detecting facial points
#%%
import dlib
import cv2
#%%
face_detector = dlib.get_frontal_face_detector()
points_detector = dlib.shape_predictor('/Users/sihoon/Desktop/ComputerVision/Computer Vision Masterclass/Weights/shape_predictor_68_face_landmarks.dat') # 얼굴 포인트를 감지할 모델
#%%
image = cv2.imread('/Users/sihoon/Desktop/ComputerVision/Computer Vision Masterclass/Images/people2.jpg')
